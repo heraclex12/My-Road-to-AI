{
  "nbformat": 4,
  "nbformat_minor": 0,
  "metadata": {
    "colab": {
      "name": "MNIST - Deep Neural Network",
      "provenance": [],
      "collapsed_sections": [],
      "mount_file_id": "1fGWrK7EL4GgxWzrOXIl1uEAfjnhapSRV",
      "authorship_tag": "ABX9TyPw1BJcW2Mr4hKMKfB6paU8",
      "include_colab_link": true
    },
    "kernelspec": {
      "name": "python3",
      "display_name": "Python 3"
    }
  },
  "cells": [
    {
      "cell_type": "markdown",
      "metadata": {
        "id": "view-in-github",
        "colab_type": "text"
      },
      "source": [
        "<a href=\"https://colab.research.google.com/github/heraclex12/My-Road-to-AI/blob/master/MNIST_Deep_Neural_Network.ipynb\" target=\"_parent\"><img src=\"https://colab.research.google.com/assets/colab-badge.svg\" alt=\"Open In Colab\"/></a>"
      ]
    },
    {
      "cell_type": "code",
      "metadata": {
        "id": "5H2GFgQ17sS-"
      },
      "source": [
        "import pandas as pd\n",
        "import matplotlib.pyplot as plt\n",
        "%matplotlib inline\n",
        "from sklearn.svm import SVC\n",
        "from sklearn.metrics import accuracy_score\n",
        "import numpy as np\n",
        "import pickle\n",
        "import tensorflow as tf"
      ],
      "execution_count": null,
      "outputs": []
    },
    {
      "cell_type": "code",
      "metadata": {
        "id": "gpv9xvRcG9Pt"
      },
      "source": [
        "(train_X, train_Y), (test_X, test_Y) = tf.keras.datasets.mnist.load_data(path=\"mnist.npz\")"
      ],
      "execution_count": null,
      "outputs": []
    },
    {
      "cell_type": "code",
      "metadata": {
        "id": "TMC5cC3QH3Tl"
      },
      "source": [
        "# standard inputs\n",
        "train_X = train_X.reshape((-1, 28*28)) / 255\n",
        "test_X = test_X.reshape((-1, 28*28)) / 255"
      ],
      "execution_count": null,
      "outputs": []
    },
    {
      "cell_type": "code",
      "metadata": {
        "id": "8GjrkHEhiGhJ"
      },
      "source": [
        "# count total classes\n",
        "n_classes = len(np.unique(train_Y))"
      ],
      "execution_count": null,
      "outputs": []
    },
    {
      "cell_type": "markdown",
      "metadata": {
        "id": "IfgZdAFI8cPJ"
      },
      "source": [
        "# SVM model"
      ]
    },
    {
      "cell_type": "code",
      "metadata": {
        "id": "0uAfWC5S8Z7-",
        "outputId": "c38b6837-6bd1-4fc5-8c46-a857e8e960cd",
        "colab": {
          "base_uri": "https://localhost:8080/",
          "height": 34
        }
      },
      "source": [
        "clf = SVC(kernel='rbf', C=5, gamma=0.05)\n",
        "clf.fit(train_X, train_Y)\n",
        "\n",
        "print('Accuracy score: ', accuracy_score(test_Y, clf.predict(test_X)))"
      ],
      "execution_count": null,
      "outputs": [
        {
          "output_type": "stream",
          "text": [
            "Accuracy score:  0.9837\n"
          ],
          "name": "stdout"
        }
      ]
    },
    {
      "cell_type": "markdown",
      "metadata": {
        "id": "9PR9bGXO8frG"
      },
      "source": [
        "# Deep neural network"
      ]
    },
    {
      "cell_type": "code",
      "metadata": {
        "id": "iOf9UP0D_JS_"
      },
      "source": [
        "# one-hot encoding labels\n",
        "new_train_Y = tf.keras.utils.to_categorical(train_Y, num_classes=n_classes)\n",
        "new_test_Y = tf.keras.utils.to_categorical(test_Y, num_classes=n_classes)"
      ],
      "execution_count": null,
      "outputs": []
    },
    {
      "cell_type": "code",
      "metadata": {
        "id": "1qrr7l-V8esL",
        "outputId": "d05b3e93-cf56-42ef-b5f7-0c121bddf446",
        "colab": {
          "base_uri": "https://localhost:8080/",
          "height": 1000
        }
      },
      "source": [
        "nn_model = tf.keras.Sequential([\n",
        "                                tf.keras.layers.Input(shape=(784,)),\n",
        "                                tf.keras.layers.Dense(256, activation='relu'),\n",
        "                                tf.keras.layers.Dropout(0.1),\n",
        "                                tf.keras.layers.Dense(512, activation='relu'),\n",
        "                                tf.keras.layers.Dropout(0.1),\n",
        "                                tf.keras.layers.Dense(256, activation='relu'),\n",
        "                                tf.keras.layers.Dropout(0.1),\n",
        "                                tf.keras.layers.Dense(n_classes, activation='softmax')\n",
        "])\n",
        "\n",
        "nn_model.compile(loss='categorical_crossentropy', optimizer='adam', metrics=['accuracy'])\n",
        "nn_model.summary()\n",
        "\n",
        "nn_model.fit(train_X, new_train_Y, epochs=20, validation_data=(test_X, new_test_Y))"
      ],
      "execution_count": null,
      "outputs": [
        {
          "output_type": "stream",
          "text": [
            "Model: \"sequential\"\n",
            "_________________________________________________________________\n",
            "Layer (type)                 Output Shape              Param #   \n",
            "=================================================================\n",
            "dense (Dense)                (None, 256)               200960    \n",
            "_________________________________________________________________\n",
            "dropout (Dropout)            (None, 256)               0         \n",
            "_________________________________________________________________\n",
            "dense_1 (Dense)              (None, 512)               131584    \n",
            "_________________________________________________________________\n",
            "dropout_1 (Dropout)          (None, 512)               0         \n",
            "_________________________________________________________________\n",
            "dense_2 (Dense)              (None, 256)               131328    \n",
            "_________________________________________________________________\n",
            "dropout_2 (Dropout)          (None, 256)               0         \n",
            "_________________________________________________________________\n",
            "dense_3 (Dense)              (None, 10)                2570      \n",
            "=================================================================\n",
            "Total params: 466,442\n",
            "Trainable params: 466,442\n",
            "Non-trainable params: 0\n",
            "_________________________________________________________________\n",
            "Epoch 1/20\n",
            "1875/1875 [==============================] - 10s 5ms/step - loss: 0.2223 - accuracy: 0.9320 - val_loss: 0.1054 - val_accuracy: 0.9652\n",
            "Epoch 2/20\n",
            "1875/1875 [==============================] - 9s 5ms/step - loss: 0.1105 - accuracy: 0.9673 - val_loss: 0.0918 - val_accuracy: 0.9723\n",
            "Epoch 3/20\n",
            "1875/1875 [==============================] - 9s 5ms/step - loss: 0.0823 - accuracy: 0.9749 - val_loss: 0.0781 - val_accuracy: 0.9770\n",
            "Epoch 4/20\n",
            "1875/1875 [==============================] - 9s 5ms/step - loss: 0.0680 - accuracy: 0.9789 - val_loss: 0.0787 - val_accuracy: 0.9778\n",
            "Epoch 5/20\n",
            "1875/1875 [==============================] - 9s 5ms/step - loss: 0.0582 - accuracy: 0.9819 - val_loss: 0.0785 - val_accuracy: 0.9775\n",
            "Epoch 6/20\n",
            "1875/1875 [==============================] - 10s 5ms/step - loss: 0.0512 - accuracy: 0.9847 - val_loss: 0.0786 - val_accuracy: 0.9798\n",
            "Epoch 7/20\n",
            "1875/1875 [==============================] - 9s 5ms/step - loss: 0.0446 - accuracy: 0.9861 - val_loss: 0.0775 - val_accuracy: 0.9812\n",
            "Epoch 8/20\n",
            "1875/1875 [==============================] - 10s 5ms/step - loss: 0.0407 - accuracy: 0.9872 - val_loss: 0.0887 - val_accuracy: 0.9774\n",
            "Epoch 9/20\n",
            "1875/1875 [==============================] - 9s 5ms/step - loss: 0.0384 - accuracy: 0.9881 - val_loss: 0.0769 - val_accuracy: 0.9804\n",
            "Epoch 10/20\n",
            "1875/1875 [==============================] - 10s 6ms/step - loss: 0.0355 - accuracy: 0.9896 - val_loss: 0.0867 - val_accuracy: 0.9812\n",
            "Epoch 11/20\n",
            "1875/1875 [==============================] - 10s 6ms/step - loss: 0.0331 - accuracy: 0.9904 - val_loss: 0.0941 - val_accuracy: 0.9797\n",
            "Epoch 12/20\n",
            "1875/1875 [==============================] - 11s 6ms/step - loss: 0.0339 - accuracy: 0.9901 - val_loss: 0.0885 - val_accuracy: 0.9798\n",
            "Epoch 13/20\n",
            "1875/1875 [==============================] - 11s 6ms/step - loss: 0.0292 - accuracy: 0.9917 - val_loss: 0.0897 - val_accuracy: 0.9812\n",
            "Epoch 14/20\n",
            "1875/1875 [==============================] - 11s 6ms/step - loss: 0.0290 - accuracy: 0.9915 - val_loss: 0.0867 - val_accuracy: 0.9823\n",
            "Epoch 15/20\n",
            "1875/1875 [==============================] - 11s 6ms/step - loss: 0.0283 - accuracy: 0.9920 - val_loss: 0.0963 - val_accuracy: 0.9814\n",
            "Epoch 16/20\n",
            "1875/1875 [==============================] - 11s 6ms/step - loss: 0.0271 - accuracy: 0.9923 - val_loss: 0.0980 - val_accuracy: 0.9820\n",
            "Epoch 17/20\n",
            "1875/1875 [==============================] - 11s 6ms/step - loss: 0.0256 - accuracy: 0.9929 - val_loss: 0.0910 - val_accuracy: 0.9832\n",
            "Epoch 18/20\n",
            "1875/1875 [==============================] - 11s 6ms/step - loss: 0.0249 - accuracy: 0.9931 - val_loss: 0.0956 - val_accuracy: 0.9814\n",
            "Epoch 19/20\n",
            "1875/1875 [==============================] - 11s 6ms/step - loss: 0.0247 - accuracy: 0.9930 - val_loss: 0.0830 - val_accuracy: 0.9815\n",
            "Epoch 20/20\n",
            "1875/1875 [==============================] - 11s 6ms/step - loss: 0.0269 - accuracy: 0.9927 - val_loss: 0.1042 - val_accuracy: 0.9808\n"
          ],
          "name": "stdout"
        },
        {
          "output_type": "execute_result",
          "data": {
            "text/plain": [
              "<tensorflow.python.keras.callbacks.History at 0x7fb3fc8cf748>"
            ]
          },
          "metadata": {
            "tags": []
          },
          "execution_count": 7
        }
      ]
    }
  ]
}