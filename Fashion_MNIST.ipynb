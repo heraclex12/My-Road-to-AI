{
  "nbformat": 4,
  "nbformat_minor": 0,
  "metadata": {
    "colab": {
      "name": "Fashion MNIST",
      "provenance": [],
      "collapsed_sections": [],
      "authorship_tag": "ABX9TyNnxvphxbc/kUGn0IxFRDp3",
      "include_colab_link": true
    },
    "kernelspec": {
      "name": "python3",
      "display_name": "Python 3"
    },
    "accelerator": "GPU"
  },
  "cells": [
    {
      "cell_type": "markdown",
      "metadata": {
        "id": "view-in-github",
        "colab_type": "text"
      },
      "source": [
        "<a href=\"https://colab.research.google.com/github/heraclex12/My-Road-to-AI/blob/master/Fashion_MNIST.ipynb\" target=\"_parent\"><img src=\"https://colab.research.google.com/assets/colab-badge.svg\" alt=\"Open In Colab\"/></a>"
      ]
    },
    {
      "cell_type": "markdown",
      "metadata": {
        "id": "r-uNhzHEMuKX"
      },
      "source": [
        "- Họ và tên: Trần Trung Hiếu\n",
        "- MSSV: 1712442"
      ]
    },
    {
      "cell_type": "code",
      "metadata": {
        "id": "QCEC-jLE2Z8p"
      },
      "source": [
        "import tensorflow as tf\n",
        "import numpy as np\n",
        "from tensorflow.keras.layers import Conv2D, Dropout, MaxPooling2D, AveragePooling2D, Dense, Flatten, GlobalAveragePooling2D"
      ],
      "execution_count": null,
      "outputs": []
    },
    {
      "cell_type": "code",
      "metadata": {
        "id": "JpmFEf7T2jEg"
      },
      "source": [
        "fashion_mnist = tf.keras.datasets.fashion_mnist"
      ],
      "execution_count": null,
      "outputs": []
    },
    {
      "cell_type": "code",
      "metadata": {
        "id": "zd9aOpN42k08"
      },
      "source": [
        "(train_img, train_labels), (test_img, test_labels) = fashion_mnist.load_data()"
      ],
      "execution_count": null,
      "outputs": []
    },
    {
      "cell_type": "code",
      "metadata": {
        "id": "lEe6rxLp3omK",
        "outputId": "200b5ab4-06fe-4026-8400-cb64a72e8376",
        "colab": {
          "base_uri": "https://localhost:8080/",
          "height": 102
        }
      },
      "source": [
        "print(\"Training image shape:\", train_img.shape)\n",
        "print(\"Training label shape:\", train_labels.shape)\n",
        "\n",
        "print(\"Test image shape:\", test_img.shape)\n",
        "print(\"Test label shape:\", test_labels.shape)\n",
        "\n",
        "n_classes = len(np.unique(train_labels))\n",
        "print(\"Number classes:\", n_classes)"
      ],
      "execution_count": null,
      "outputs": [
        {
          "output_type": "stream",
          "text": [
            "Training image shape: (60000, 28, 28)\n",
            "Training label shape: (60000,)\n",
            "Test image shape: (10000, 28, 28)\n",
            "Test label shape: (10000,)\n",
            "Number classes: 10\n"
          ],
          "name": "stdout"
        }
      ]
    },
    {
      "cell_type": "code",
      "metadata": {
        "id": "nIlWUfoq38tv"
      },
      "source": [
        "# normalize\n",
        "train_img = train_img / 255.0\n",
        "test_img = test_img / 255.0\n",
        "\n",
        "train_img = tf.keras.backend.expand_dims(train_img)\n",
        "test_img = tf.keras.backend.expand_dims(test_img)\n",
        "\n",
        "# convert to one-hot labels\n",
        "train_labels = tf.keras.utils.to_categorical(train_labels, num_classes=n_classes)\n",
        "test_labels = tf.keras.utils.to_categorical(test_labels, num_classes=n_classes)"
      ],
      "execution_count": null,
      "outputs": []
    },
    {
      "cell_type": "code",
      "metadata": {
        "id": "ay4LGlR-5Wga",
        "outputId": "20442a7c-751a-447e-dd52-7c3456e8db1f",
        "colab": {
          "base_uri": "https://localhost:8080/",
          "height": 493
        }
      },
      "source": [
        "# create model\n",
        "model = tf.keras.Sequential()\n",
        "model.add(Conv2D(64, 3, padding='same', input_shape=train_img.shape[1:], activation='relu'))\n",
        "model.add(MaxPooling2D())\n",
        "model.add(Dropout(0.2))\n",
        "model.add(Conv2D(128, 3, padding='same', activation='relu'))\n",
        "model.add(MaxPooling2D())\n",
        "model.add(Dropout(0.2))\n",
        "model.add(Flatten())\n",
        "# model.add(GlobalAveragePooling2D())\n",
        "model.add(Dense(128, activation='relu'))\n",
        "model.add(Dropout(0.2))\n",
        "model.add(Dense(n_classes, activation='softmax'))\n",
        "\n",
        "model.summary()"
      ],
      "execution_count": null,
      "outputs": [
        {
          "output_type": "stream",
          "text": [
            "Model: \"sequential\"\n",
            "_________________________________________________________________\n",
            "Layer (type)                 Output Shape              Param #   \n",
            "=================================================================\n",
            "conv2d (Conv2D)              (None, 28, 28, 64)        640       \n",
            "_________________________________________________________________\n",
            "max_pooling2d (MaxPooling2D) (None, 14, 14, 64)        0         \n",
            "_________________________________________________________________\n",
            "dropout (Dropout)            (None, 14, 14, 64)        0         \n",
            "_________________________________________________________________\n",
            "conv2d_1 (Conv2D)            (None, 14, 14, 128)       73856     \n",
            "_________________________________________________________________\n",
            "max_pooling2d_1 (MaxPooling2 (None, 7, 7, 128)         0         \n",
            "_________________________________________________________________\n",
            "dropout_1 (Dropout)          (None, 7, 7, 128)         0         \n",
            "_________________________________________________________________\n",
            "flatten (Flatten)            (None, 6272)              0         \n",
            "_________________________________________________________________\n",
            "dense (Dense)                (None, 128)               802944    \n",
            "_________________________________________________________________\n",
            "dropout_2 (Dropout)          (None, 128)               0         \n",
            "_________________________________________________________________\n",
            "dense_1 (Dense)              (None, 10)                1290      \n",
            "=================================================================\n",
            "Total params: 878,730\n",
            "Trainable params: 878,730\n",
            "Non-trainable params: 0\n",
            "_________________________________________________________________\n"
          ],
          "name": "stdout"
        }
      ]
    },
    {
      "cell_type": "code",
      "metadata": {
        "id": "R_hz_keI8aNM",
        "outputId": "eb9b101d-578c-40c9-cbc3-def603231bed",
        "colab": {
          "base_uri": "https://localhost:8080/",
          "height": 714
        }
      },
      "source": [
        "# train model\n",
        "model.compile(loss='categorical_crossentropy', optimizer='adam', metrics=['accuracy'])\n",
        "model.fit(train_img, train_labels, batch_size=128, epochs=20, validation_data=(test_img, test_labels))"
      ],
      "execution_count": null,
      "outputs": [
        {
          "output_type": "stream",
          "text": [
            "Epoch 1/20\n",
            "469/469 [==============================] - 8s 18ms/step - loss: 0.5044 - accuracy: 0.8170 - val_loss: 0.3755 - val_accuracy: 0.8646\n",
            "Epoch 2/20\n",
            "469/469 [==============================] - 8s 16ms/step - loss: 0.3218 - accuracy: 0.8835 - val_loss: 0.2989 - val_accuracy: 0.8919\n",
            "Epoch 3/20\n",
            "469/469 [==============================] - 8s 16ms/step - loss: 0.2769 - accuracy: 0.9001 - val_loss: 0.2596 - val_accuracy: 0.9027\n",
            "Epoch 4/20\n",
            "469/469 [==============================] - 8s 16ms/step - loss: 0.2467 - accuracy: 0.9089 - val_loss: 0.2482 - val_accuracy: 0.9104\n",
            "Epoch 5/20\n",
            "469/469 [==============================] - 8s 16ms/step - loss: 0.2230 - accuracy: 0.9180 - val_loss: 0.2402 - val_accuracy: 0.9104\n",
            "Epoch 6/20\n",
            "469/469 [==============================] - 8s 16ms/step - loss: 0.2044 - accuracy: 0.9254 - val_loss: 0.2352 - val_accuracy: 0.9142\n",
            "Epoch 7/20\n",
            "469/469 [==============================] - 8s 16ms/step - loss: 0.1941 - accuracy: 0.9270 - val_loss: 0.2196 - val_accuracy: 0.9204\n",
            "Epoch 8/20\n",
            "469/469 [==============================] - 8s 16ms/step - loss: 0.1786 - accuracy: 0.9340 - val_loss: 0.2136 - val_accuracy: 0.9235\n",
            "Epoch 9/20\n",
            "469/469 [==============================] - 8s 16ms/step - loss: 0.1651 - accuracy: 0.9395 - val_loss: 0.2128 - val_accuracy: 0.9226\n",
            "Epoch 10/20\n",
            "469/469 [==============================] - 8s 16ms/step - loss: 0.1574 - accuracy: 0.9417 - val_loss: 0.2264 - val_accuracy: 0.9193\n",
            "Epoch 11/20\n",
            "469/469 [==============================] - 8s 16ms/step - loss: 0.1455 - accuracy: 0.9460 - val_loss: 0.2122 - val_accuracy: 0.9266\n",
            "Epoch 12/20\n",
            "469/469 [==============================] - 8s 16ms/step - loss: 0.1379 - accuracy: 0.9488 - val_loss: 0.2142 - val_accuracy: 0.9264\n",
            "Epoch 13/20\n",
            "469/469 [==============================] - 8s 16ms/step - loss: 0.1294 - accuracy: 0.9513 - val_loss: 0.2106 - val_accuracy: 0.9275\n",
            "Epoch 14/20\n",
            "469/469 [==============================] - 8s 16ms/step - loss: 0.1197 - accuracy: 0.9546 - val_loss: 0.2133 - val_accuracy: 0.9278\n",
            "Epoch 15/20\n",
            "469/469 [==============================] - 8s 16ms/step - loss: 0.1138 - accuracy: 0.9572 - val_loss: 0.2232 - val_accuracy: 0.9258\n",
            "Epoch 16/20\n",
            "469/469 [==============================] - 8s 16ms/step - loss: 0.1069 - accuracy: 0.9597 - val_loss: 0.2288 - val_accuracy: 0.9276\n",
            "Epoch 17/20\n",
            "469/469 [==============================] - 8s 16ms/step - loss: 0.1006 - accuracy: 0.9623 - val_loss: 0.2305 - val_accuracy: 0.9268\n",
            "Epoch 18/20\n",
            "469/469 [==============================] - 8s 16ms/step - loss: 0.0981 - accuracy: 0.9625 - val_loss: 0.2212 - val_accuracy: 0.9322\n",
            "Epoch 19/20\n",
            "469/469 [==============================] - 8s 16ms/step - loss: 0.0898 - accuracy: 0.9663 - val_loss: 0.2396 - val_accuracy: 0.9273\n",
            "Epoch 20/20\n",
            "469/469 [==============================] - 8s 16ms/step - loss: 0.0902 - accuracy: 0.9649 - val_loss: 0.2390 - val_accuracy: 0.9260\n"
          ],
          "name": "stdout"
        },
        {
          "output_type": "execute_result",
          "data": {
            "text/plain": [
              "<tensorflow.python.keras.callbacks.History at 0x7f52d02e4588>"
            ]
          },
          "metadata": {
            "tags": []
          },
          "execution_count": 7
        }
      ]
    },
    {
      "cell_type": "code",
      "metadata": {
        "id": "sq0zU4VRLXPn",
        "outputId": "bd79e458-06bb-4dc3-b52e-cd8640d6478c",
        "colab": {
          "base_uri": "https://localhost:8080/",
          "height": 34
        }
      },
      "source": [
        "# get model score\n",
        "print(\"Highest test accuracy:\", max(model.history.history['val_accuracy']))"
      ],
      "execution_count": null,
      "outputs": [
        {
          "output_type": "stream",
          "text": [
            "Highest test accuracy: 0.932200014591217\n"
          ],
          "name": "stdout"
        }
      ]
    }
  ]
}